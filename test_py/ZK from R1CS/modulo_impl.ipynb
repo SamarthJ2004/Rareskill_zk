{
 "cells": [
  {
   "cell_type": "code",
   "execution_count": 5,
   "id": "9cbc23f1-5cd2-4971-a042-cdd739bd6d21",
   "metadata": {},
   "outputs": [
    {
     "name": "stdout",
     "output_type": "stream",
     "text": [
      "[np.int64(49), np.int64(52), np.int64(14)]\n",
      "[np.int64(7), np.int64(49), np.int64(7)]\n",
      "[np.int64(7), np.int64(7), np.int64(2)]\n",
      "[np.int64(49), np.int64(52), np.int64(14)]\n",
      "True\n"
     ]
    }
   ],
   "source": [
    "import numpy as np\n",
    "import r1cs, witness\n",
    "\n",
    "P = 97\n",
    "\n",
    "OUT = np.array(r1cs.OUT)\n",
    "A = np.array(r1cs.L)\n",
    "B = np.array(r1cs.R)\n",
    "\n",
    "w = np.array([i % P for i in witness.w])\n",
    "\n",
    "def dot_mul_modulo(constraints, witness ,prime_modulo):\n",
    "    r = []\n",
    "\n",
    "    for constraint in constraints:\n",
    "        sum = 0\n",
    "        for idx, element in enumerate(constraint):\n",
    "            sum += element * w[idx]\n",
    "        r.append(sum % prime_modulo)\n",
    "\n",
    "    return r\n",
    "\n",
    "def element_wise_mul(left_constraint, right_constraint, prime_mod):\n",
    "    out = []\n",
    "    for a, b in zip(left_constraint, right_constraint):\n",
    "        out.append((a*b) % prime_mod)\n",
    "    return out\n",
    "\n",
    "lhs = dot_mul_modulo(OUT, w, P)\n",
    "print(lhs)\n",
    "L = dot_mul_modulo(A, w ,P)\n",
    "R = dot_mul_modulo(B,w,P)\n",
    "print(L)\n",
    "print(R)\n",
    "\n",
    "rhs = element_wise_mul(L, R, P)\n",
    "print(rhs)\n",
    "\n",
    "print(lhs == rhs)"
   ]
  },
  {
   "cell_type": "code",
   "execution_count": null,
   "id": "fc871c68-16e0-46b0-91ad-5c049ed57ba6",
   "metadata": {},
   "outputs": [],
   "source": []
  }
 ],
 "metadata": {
  "kernelspec": {
   "display_name": "Python (venv)",
   "language": "python",
   "name": "venv"
  },
  "language_info": {
   "codemirror_mode": {
    "name": "ipython",
    "version": 3
   },
   "file_extension": ".py",
   "mimetype": "text/x-python",
   "name": "python",
   "nbconvert_exporter": "python",
   "pygments_lexer": "ipython3",
   "version": "3.13.7"
  }
 },
 "nbformat": 4,
 "nbformat_minor": 5
}
