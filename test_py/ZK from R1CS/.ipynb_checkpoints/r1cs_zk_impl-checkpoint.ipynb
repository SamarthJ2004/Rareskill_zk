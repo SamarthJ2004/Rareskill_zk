{
 "cells": [
  {
   "cell_type": "code",
   "execution_count": 11,
   "id": "81f67c20-6592-49f8-923e-a856d84d0bcf",
   "metadata": {},
   "outputs": [
    {
     "name": "stdout",
     "output_type": "stream",
     "text": [
      "True\n"
     ]
    }
   ],
   "source": [
    "from py_ecc.bn128 import G1, G2, multiply, pairing, add, eq, curve_order\n",
    "import r1cs, witness\n",
    "\n",
    "OUT = r1cs.OUT\n",
    "A = r1cs.L\n",
    "B = r1cs.R\n",
    "\n",
    "wG1 = [multiply(G1,i) for i in witness.w]\n",
    "# print(wG1)\n",
    "wG2 = [multiply(G2,i) for i in witness.w]\n",
    "\n",
    "allG2 = [G2 for _ in witness.w]\n",
    "\n",
    "def dot_mul_ec(constraints, ec_w):\n",
    "    r = []\n",
    "\n",
    "    for constraint in constraints:\n",
    "        sum = None\n",
    "        for idx, element in enumerate(constraint):\n",
    "            if element < 0:\n",
    "                sum = add(sum, multiply(ec_w[idx],element + curve_order))\n",
    "            else:\n",
    "                sum = add(sum, multiply(ec_w[idx], element))\n",
    "\n",
    "        r.append(sum)\n",
    "    return r\n",
    "\n",
    "def element_ec_mul(left, right):\n",
    "    r = []\n",
    "\n",
    "    for a,b in zip(left, right):\n",
    "        r.append(pairing(b,a))\n",
    "\n",
    "    return r\n",
    "\n",
    "lhs = element_ec_mul(dot_mul_ec(OUT, wG1), allG2)\n",
    "rhs = element_ec_mul(dot_mul_ec(A, wG1), dot_mul_ec(B,wG2))\n",
    "\n",
    "print(eq(lhs, rhs))"
   ]
  },
  {
   "cell_type": "code",
   "execution_count": null,
   "id": "85c305ef-54b9-4902-81a2-6972d5343d05",
   "metadata": {},
   "outputs": [],
   "source": []
  }
 ],
 "metadata": {
  "kernelspec": {
   "display_name": "Python (venv)",
   "language": "python",
   "name": "venv"
  },
  "language_info": {
   "codemirror_mode": {
    "name": "ipython",
    "version": 3
   },
   "file_extension": ".py",
   "mimetype": "text/x-python",
   "name": "python",
   "nbconvert_exporter": "python",
   "pygments_lexer": "ipython3",
   "version": "3.13.7"
  }
 },
 "nbformat": 4,
 "nbformat_minor": 5
}
