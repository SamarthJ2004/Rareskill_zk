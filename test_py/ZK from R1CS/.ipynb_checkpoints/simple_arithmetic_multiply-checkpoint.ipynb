{
 "cells": [
  {
   "cell_type": "code",
   "execution_count": 1,
   "id": "f7bd2e9b-5017-4920-8eff-caf576ca672f",
   "metadata": {},
   "outputs": [
    {
     "name": "stdout",
     "output_type": "stream",
     "text": [
      "[ 49 343  14]\n",
      "[ 7 49  7]\n",
      "[7 7 2]\n",
      "[ 49 343  14]\n",
      "True\n"
     ]
    }
   ],
   "source": [
    "import numpy as np\n",
    "import r1cs, witness\n",
    "\n",
    "OUT = np.array(r1cs.OUT)\n",
    "A= np.array(r1cs.L)\n",
    "B= np.array(r1cs.R)\n",
    "\n",
    "w = np.array(witness.w)\n",
    "\n",
    "print(OUT.dot(w))\n",
    "print(A.dot(w))\n",
    "print(B.dot(w))\n",
    "print(np.multiply(A.dot(w), B.dot(w)))\n",
    "\n",
    "result = OUT.dot(w) == np.multiply(A.dot(w), B.dot(w))\n",
    "\n",
    "print(result.all())\n"
   ]
  },
  {
   "cell_type": "code",
   "execution_count": null,
   "id": "469bcd99-5a40-471a-ae64-5a5b110d1bee",
   "metadata": {},
   "outputs": [],
   "source": []
  }
 ],
 "metadata": {
  "kernelspec": {
   "display_name": "Python (venv)",
   "language": "python",
   "name": "venv"
  },
  "language_info": {
   "codemirror_mode": {
    "name": "ipython",
    "version": 3
   },
   "file_extension": ".py",
   "mimetype": "text/x-python",
   "name": "python",
   "nbconvert_exporter": "python",
   "pygments_lexer": "ipython3",
   "version": "3.13.7"
  }
 },
 "nbformat": 4,
 "nbformat_minor": 5
}
