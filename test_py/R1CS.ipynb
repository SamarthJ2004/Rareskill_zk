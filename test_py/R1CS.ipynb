{
 "cells": [
  {
   "cell_type": "code",
   "execution_count": 1,
   "id": "376e7d10-883b-4447-a114-656c7ab91e25",
   "metadata": {},
   "outputs": [],
   "source": [
    "# Oa = La * Ra\n",
    "\n",
    "# z = xy\n",
    "import numpy as np\n",
    "\n",
    "O = np.matrix([[0,1,0,0]])\n",
    "L = np.matrix([[0,0,1,0]])\n",
    "R = np.matrix([[0,0,0,1]])\n",
    "\n",
    "a = np.array([1, 4223, 41, 103])\n",
    "\n",
    "result = np.matmul(O, a) == np.matmul(L, a) * np.matmul(R, a) \n",
    "\n",
    "assert result.all(), \"result contains an inequality\""
   ]
  },
  {
   "cell_type": "code",
   "execution_count": 3,
   "id": "96259968-352e-445c-88ec-21254efe1862",
   "metadata": {},
   "outputs": [],
   "source": [
    "# r = xyzu\n",
    "import numpy as np\n",
    "\n",
    "L = np.matrix([[0,0,1,0,0,0,0,0],\n",
    "              [0,0,0,0,1,0,0,0],\n",
    "              [0,0,0,0,0,0,1,0]])\n",
    "\n",
    "R = np.matrix([[0,0,0,1,0,0,0,0],\n",
    "              [0,0,0,0,0,1,0,0],\n",
    "              [0,0,0,0,0,0,0,1]])\n",
    "\n",
    "O = np.matrix([[0,0,0,0,0,0,1,0],\n",
    "              [0,0,0,0,0,0,0,1],\n",
    "              [0,1,0,0,0,0,0,0]])\n",
    "\n",
    "import random\n",
    "x = random.randint(1,1000)\n",
    "y = random.randint(1,1000)\n",
    "z = random.randint(1,1000)\n",
    "u = random.randint(1,1000)\n",
    "\n",
    "r = x * y * z * u\n",
    "v1 = x*y\n",
    "v2 = z*u\n",
    "\n",
    "a = np.array([1, r, x, y, z, u, v1, v2])\n",
    "\n",
    "result = np.matmul(O, a) == np.multiply(np.matmul(L, a), np.matmul(R, a))\n",
    "\n",
    "assert result.all(), \"system contains an inequality\""
   ]
  },
  {
   "cell_type": "code",
   "execution_count": 7,
   "id": "9a475801-504e-4e75-a9ff-ce697bf2e596",
   "metadata": {},
   "outputs": [],
   "source": [
    "# z = 3x^2y + 5xy -x - 2y  +3\n",
    "\n",
    "import numpy as np \n",
    "\n",
    "L = np.matrix([[0,0,3,0,0,0],[0,0,0,0,1,0],[0,0,5,0,0,0]])\n",
    "R = np.matrix([[0,0,1,0,0,0],[0,0,0,1,0,0],[0,0,0,1,0,0]])\n",
    "O = np.matrix([[0,0,0,0,1,0],[0,0,0,0,0,1],[-3,1,1,2,0,-1]])\n",
    "\n",
    "import random\n",
    "\n",
    "x = random.randint(1,1000)\n",
    "y = random.randint(1,1000)\n",
    "\n",
    "v1 = 3*x*x\n",
    "v2 = v1 * y\n",
    "\n",
    "z = 5*x*y + v2 -x -2*y + 3\n",
    "\n",
    "a = np.array([1, z, x,y,v1,v2])\n",
    "\n",
    "result = O.dot(a) == np.multiply(L.dot(a), R.dot(a))\n",
    "assert result.all(), \"result contains an inequality\""
   ]
  },
  {
   "cell_type": "code",
   "execution_count": null,
   "id": "00d1e867-76c8-44ae-a240-10f4680092b9",
   "metadata": {},
   "outputs": [],
   "source": []
  }
 ],
 "metadata": {
  "kernelspec": {
   "display_name": "Python (venv)",
   "language": "python",
   "name": "venv"
  },
  "language_info": {
   "codemirror_mode": {
    "name": "ipython",
    "version": 3
   },
   "file_extension": ".py",
   "mimetype": "text/x-python",
   "name": "python",
   "nbconvert_exporter": "python",
   "pygments_lexer": "ipython3",
   "version": "3.13.7"
  }
 },
 "nbformat": 4,
 "nbformat_minor": 5
}
