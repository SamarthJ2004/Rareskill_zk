{
 "cells": [
  {
   "cell_type": "code",
   "execution_count": null,
   "id": "3bd29ccc-163c-484e-99fb-91acbe98538d",
   "metadata": {},
   "outputs": [],
   "source": []
  }
 ],
 "metadata": {
  "kernelspec": {
   "display_name": "",
   "name": ""
  },
  "language_info": {
   "name": ""
  }
 },
 "nbformat": 4,
 "nbformat_minor": 5
}
