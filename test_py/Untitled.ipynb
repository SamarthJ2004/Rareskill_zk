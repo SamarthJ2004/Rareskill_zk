{
 "cells": [
  {
   "cell_type": "code",
   "execution_count": 1,
   "id": "abe1fb12-d4e5-414f-a70a-12664aa50a14",
   "metadata": {},
   "outputs": [
    {
     "name": "stdout",
     "output_type": "stream",
     "text": [
      "Hello World\n"
     ]
    }
   ],
   "source": [
    "print(\"Hello World\")"
   ]
  },
  {
   "cell_type": "code",
   "execution_count": 20,
   "id": "f0ffaebd-1260-4ed1-8265-8cdb97dd2547",
   "metadata": {},
   "outputs": [
    {
     "name": "stdout",
     "output_type": "stream",
     "text": [
      "/Users/samarth_jindal/Desktop/coding/path/to/venv/bin/python3\n"
     ]
    }
   ],
   "source": [
    "import sys\n",
    "print(sys.executable)\n",
    "\n",
    "from sympy import init_printing\n",
    "init_printing(use_latex=True)"
   ]
  },
  {
   "cell_type": "code",
   "execution_count": 21,
   "id": "25aa942b-a0af-41cd-a13c-95dacfd318fa",
   "metadata": {},
   "outputs": [],
   "source": [
    "from sympy import symbols, init_printing, simplify, display\n",
    "\n",
    "y_t, y_u, x_t, x_u = symbols(\"y_t y_u x_t x_u\")\n",
    "lambda_p = (y_u - y_t)/(x_u - x_t)\n",
    "x_p = lambda_p**2 - x_t - x_u\n",
    "y_p = (lambda_p*(x_t - x_p) - y_t)"
   ]
  },
  {
   "cell_type": "code",
   "execution_count": 22,
   "id": "acb5cd01-485f-41be-8909-7391f084eb4c",
   "metadata": {},
   "outputs": [],
   "source": [
    "lambda_q = (y_t - y_u)/(x_t - x_u)\n",
    "x_q = lambda_q**2 - x_u - x_t\n",
    "y_q = (lambda_q*(x_u - x_q) - y_u)"
   ]
  },
  {
   "cell_type": "code",
   "execution_count": 26,
   "id": "cde700f6-e725-4b8a-8bef-d9c8cb268eb4",
   "metadata": {},
   "outputs": [
    {
     "data": {
      "text/latex": [
       "$\\displaystyle - x_{t} - x_{u} + \\frac{\\left(y_{t} - y_{u}\\right)^{2}}{\\left(x_{t} - x_{u}\\right)^{2}}$"
      ],
      "text/plain": [
       "-x_t - x_u + (y_t - y_u)**2/(x_t - x_u)**2"
      ]
     },
     "metadata": {},
     "output_type": "display_data"
    }
   ],
   "source": [
    "display(x_q)"
   ]
  },
  {
   "cell_type": "code",
   "execution_count": 27,
   "id": "9e1b448f-aae5-4578-9f88-357e5215bbd5",
   "metadata": {},
   "outputs": [
    {
     "data": {
      "text/latex": [
       "$\\displaystyle - x_{t} - x_{u} + \\frac{\\left(- y_{t} + y_{u}\\right)^{2}}{\\left(- x_{t} + x_{u}\\right)^{2}}$"
      ],
      "text/plain": [
       "-x_t - x_u + (-y_t + y_u)**2/(-x_t + x_u)**2"
      ]
     },
     "metadata": {},
     "output_type": "display_data"
    }
   ],
   "source": [
    "display(x_p)"
   ]
  },
  {
   "cell_type": "code",
   "execution_count": 28,
   "id": "e26ab71e-a9e6-4371-893e-61beebeedcfb",
   "metadata": {},
   "outputs": [
    {
     "data": {
      "text/latex": [
       "$\\displaystyle \\frac{x_{t}^{3} y_{t} - 2 x_{t}^{3} y_{u} + 3 x_{t}^{2} x_{u} y_{u} - 3 x_{t} x_{u}^{2} y_{t} + 2 x_{u}^{3} y_{t} - x_{u}^{3} y_{u} - y_{t}^{3} + 3 y_{t}^{2} y_{u} - 3 y_{t} y_{u}^{2} + y_{u}^{3}}{x_{t}^{3} - 3 x_{t}^{2} x_{u} + 3 x_{t} x_{u}^{2} - x_{u}^{3}}$"
      ],
      "text/plain": [
       "(x_t**3*y_t - 2*x_t**3*y_u + 3*x_t**2*x_u*y_u - 3*x_t*x_u**2*y_t + 2*x_u**3*y_t - x_u**3*y_u - y_t**3 + 3*y_t**2*y_u - 3*y_t*y_u**2 + y_u**3)/(x_t**3 - 3*x_t**2*x_u + 3*x_t*x_u**2 - x_u**3)"
      ]
     },
     "metadata": {},
     "output_type": "display_data"
    }
   ],
   "source": [
    "display(simplify(y_q.expand()))"
   ]
  },
  {
   "cell_type": "code",
   "execution_count": 29,
   "id": "a80cbe84-b155-4489-8236-282c651872f5",
   "metadata": {},
   "outputs": [
    {
     "data": {
      "text/latex": [
       "$\\displaystyle \\frac{x_{t}^{3} y_{t} - 2 x_{t}^{3} y_{u} + 3 x_{t}^{2} x_{u} y_{u} - 3 x_{t} x_{u}^{2} y_{t} + 2 x_{u}^{3} y_{t} - x_{u}^{3} y_{u} - y_{t}^{3} + 3 y_{t}^{2} y_{u} - 3 y_{t} y_{u}^{2} + y_{u}^{3}}{x_{t}^{3} - 3 x_{t}^{2} x_{u} + 3 x_{t} x_{u}^{2} - x_{u}^{3}}$"
      ],
      "text/plain": [
       "(x_t**3*y_t - 2*x_t**3*y_u + 3*x_t**2*x_u*y_u - 3*x_t*x_u**2*y_t + 2*x_u**3*y_t - x_u**3*y_u - y_t**3 + 3*y_t**2*y_u - 3*y_t*y_u**2 + y_u**3)/(x_t**3 - 3*x_t**2*x_u + 3*x_t*x_u**2 - x_u**3)"
      ]
     },
     "metadata": {},
     "output_type": "display_data"
    }
   ],
   "source": [
    "display(simplify(y_p.expand()))"
   ]
  }
 ],
 "metadata": {
  "kernelspec": {
   "display_name": "Python (venv)",
   "language": "python",
   "name": "venv"
  },
  "language_info": {
   "codemirror_mode": {
    "name": "ipython",
    "version": 3
   },
   "file_extension": ".py",
   "mimetype": "text/x-python",
   "name": "python",
   "nbconvert_exporter": "python",
   "pygments_lexer": "ipython3",
   "version": "3.13.7"
  }
 },
 "nbformat": 4,
 "nbformat_minor": 5
}
