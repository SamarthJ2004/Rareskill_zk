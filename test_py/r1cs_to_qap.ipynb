{
 "cells": [
  {
   "cell_type": "code",
   "execution_count": 5,
   "id": "79a10ba0-bd30-4aad-96f8-b7c32a623273",
   "metadata": {},
   "outputs": [],
   "source": [
    "# z = x^4 - 5*(y^2)*(x*2)\n",
    "\n",
    "# 1) v1 = x*x\n",
    "# 2) v2 = v1 * v1\n",
    "# 3) v3 = -5 * y * y\n",
    "# 4) z - v2 = v3 * v1\n",
    "\n",
    "# witness : [1,z,x,y,v1,v2,v3]\n",
    "\n",
    "import numpy as np\n",
    "\n",
    "L = np.array([\n",
    "    [0,0,1,0,0,0,0],\n",
    "    [0,0,0,0,1,0,0],\n",
    "    [0,0,0,-5,0,0,0],\n",
    "    [0,0,0,0,0,0,1]\n",
    "])\n",
    "\n",
    "R = np.array([\n",
    "    [0,0,1,0,0,0,0],\n",
    "    [0,0,0,0,1,0,0],\n",
    "    [0,0,0,1,0,0,0],\n",
    "    [0,0,0,0,1,0,0]\n",
    "])\n",
    "\n",
    "O = np.array([\n",
    "    [0,0,0,0,1,0,0],\n",
    "    [0,0,0,0,0,1,0],\n",
    "    [0,0,0,0,0,0,1],\n",
    "    [0,1,0,0,0,-1,0]\n",
    "])\n",
    "\n",
    "x = 4\n",
    "y = -2\n",
    "v1 = x * x\n",
    "v2 = v1 * v1        # x^4\n",
    "v3 = -5*y * y\n",
    "z = v3*v1 + v2    # -5y^2 * x^2\n",
    "\n",
    "# witness\n",
    "a = np.array([1, z, x, y, v1, v2, v3])\n",
    "\n",
    "assert all(np.equal(np.matmul(L, a) * np.matmul(R, a), np.matmul(O, a))), \"not equal\""
   ]
  },
  {
   "cell_type": "code",
   "execution_count": 6,
   "id": "edcfe9a0-1956-4354-91e8-95fc67dd9228",
   "metadata": {},
   "outputs": [
    {
     "name": "stdout",
     "output_type": "stream",
     "text": [
      "[[ 0  0  1  0  0  0  0]\n",
      " [ 0  0  0  0  1  0  0]\n",
      " [ 0  0  0 74  0  0  0]\n",
      " [ 0  0  0  0  0  0  1]]\n",
      "[[0 0 1 0 0 0 0]\n",
      " [0 0 0 0 1 0 0]\n",
      " [0 0 0 1 0 0 0]\n",
      " [0 0 0 0 1 0 0]]\n",
      "[[ 0  0  0  0  1  0  0]\n",
      " [ 0  0  0  0  0  1  0]\n",
      " [ 0  0  0  0  0  0  1]\n",
      " [ 0  1  0  0  0 78  0]]\n"
     ]
    }
   ],
   "source": [
    "P =79\n",
    "\n",
    "# galois field does not take negative values\n",
    "L = (L + P) % P\n",
    "R = (R +P) % P\n",
    "O = (O+P) % P\n",
    "\n",
    "print(L)\n",
    "print(R)\n",
    "print(O)"
   ]
  },
  {
   "cell_type": "code",
   "execution_count": 12,
   "id": "cac27e32-5503-4e6c-9be8-b7fb6b68ca07",
   "metadata": {},
   "outputs": [
    {
     "name": "stdout",
     "output_type": "stream",
     "text": [
      "[[ 0  0  1  0  0  0  0]\n",
      " [ 0  0  0  0  1  0  0]\n",
      " [ 0  0  0 74  0  0  0]\n",
      " [ 0  0  0  0  0  0  1]]\n",
      "[[0 0 1 0 0 0 0]\n",
      " [0 0 0 0 1 0 0]\n",
      " [0 0 0 1 0 0 0]\n",
      " [0 0 0 0 1 0 0]]\n",
      "[[ 0  0  0  0  1  0  0]\n",
      " [ 0  0  0  0  0  1  0]\n",
      " [ 0  0  0  0  0  0  1]\n",
      " [ 0  1  0  0  0 78  0]]\n"
     ]
    }
   ],
   "source": [
    "import galois\n",
    "\n",
    "GF = galois.GF(P)\n",
    "\n",
    "L_galois = GF(L)\n",
    "R_galois = GF(R)\n",
    "O_galois = GF(O)\n",
    "\n",
    "\n",
    "print(L_galois)\n",
    "print(R_galois)\n",
    "print(O_galois)\n",
    "\n",
    "x = GF(4)\n",
    "y = GF(-2 + P)\n",
    "v1=  x*x\n",
    "v2 = v1* v1\n",
    "v3 = GF(-5+ P) * y * y\n",
    "z = v3 * v1 + v2\n",
    "\n",
    "witness = GF(np.array([1,z,x,y,v1,v2,v3]))\n",
    "\n",
    "assert all(np.equal(np.matmul(L_galois, witness) * np.matmul(R_galois,witness), np.matmul(O_galois , witness))), \"not equal\""
   ]
  },
  {
   "cell_type": "code",
   "execution_count": 22,
   "id": "19b485ab-4b4f-406d-b998-06f2f5fa4fc9",
   "metadata": {},
   "outputs": [
    {
     "name": "stdout",
     "output_type": "stream",
     "text": [
      "[       0        0  6667130 20847764 20193579        0 33028635]\n",
      "[       0        0  6667130 19502576 13779015        0        0]\n",
      "[       0 33028635        0        0  6667130 26608143 19502576]\n"
     ]
    }
   ],
   "source": [
    "def interpolate_column(col):\n",
    "    xs = GF(np.array([1,2,3,4]))\n",
    "    return galois.lagrange_poly(xs, col)\n",
    "\n",
    "U_polys = np.apply_along_axis(interpolate_column, 0, L_galois)\n",
    "V_polys = np.apply_along_axis(interpolate_column, 0, R_galois)\n",
    "W_polys = np.apply_along_axis(interpolate_column, 0, O_galois)\n",
    "\n",
    "print(U_polys)\n",
    "print(V_polys)\n",
    "print(W_polys)"
   ]
  },
  {
   "cell_type": "code",
   "execution_count": 25,
   "id": "8781e39d-808a-4ccc-a541-8c58afacc435",
   "metadata": {
    "scrolled": true
   },
   "outputs": [
    {
     "name": "stdout",
     "output_type": "stream",
     "text": [
      "78x^3 + 76x^2 + 28x + 59\n",
      "11x^3 + 77x^2 + 20x + 54\n",
      "3x^3 + 40x^2 + 20x + 32\n"
     ]
    }
   ],
   "source": [
    "from functools import reduce\n",
    "\n",
    "def inner_product_polynomials_with_witness(polys, witness):\n",
    "    mul_ = lambda x, y: x * y   # lambda functions\n",
    "    add_ = lambda x,y: x+y\n",
    "\n",
    "    return reduce(add_, map(mul_, polys, witness))\n",
    "\n",
    "term_1 = inner_product_polynomials_with_witness(U_polys, witness)\n",
    "term_2 = inner_product_polynomials_with_witness(V_polys, witness)\n",
    "term_3 = inner_product_polynomials_with_witness(W_polys, witness)\n",
    "\n",
    "print(term_1)\n",
    "print(term_2)\n",
    "print(term_3)\n"
   ]
  },
  {
   "cell_type": "code",
   "execution_count": 29,
   "id": "e7832da9-3ceb-4bbf-aec3-7bdd0952834b",
   "metadata": {},
   "outputs": [
    {
     "name": "stdout",
     "output_type": "stream",
     "text": [
      "x^4 + 69x^3 + 35x^2 + 29x + 24\n",
      "68x^2 + 17x + 59\n"
     ]
    }
   ],
   "source": [
    "# t = (x-1)(x-2)(x-3)(x-4)\n",
    "\n",
    "t= galois.Poly([1,78], field = GF) * galois.Poly([1,77], field = GF) * galois.Poly([1,76], field = GF) * galois.Poly([1,75], field = GF)\n",
    "print(t)\n",
    "\n",
    "h = (term_1 * term_2 - term_3) // t \n",
    "\n",
    "print(h)\n",
    "\n",
    "assert term_1 * term_2 == term_3 + h * t, \"division has a remainder\""
   ]
  },
  {
   "cell_type": "code",
   "execution_count": null,
   "id": "41e14935-f53f-4b60-9dbe-ad70343a88d6",
   "metadata": {},
   "outputs": [],
   "source": []
  }
 ],
 "metadata": {
  "kernelspec": {
   "display_name": "Python (venv)",
   "language": "python",
   "name": "venv"
  },
  "language_info": {
   "codemirror_mode": {
    "name": "ipython",
    "version": 3
   },
   "file_extension": ".py",
   "mimetype": "text/x-python",
   "name": "python",
   "nbconvert_exporter": "python",
   "pygments_lexer": "ipython3",
   "version": "3.13.7"
  }
 },
 "nbformat": 4,
 "nbformat_minor": 5
}
