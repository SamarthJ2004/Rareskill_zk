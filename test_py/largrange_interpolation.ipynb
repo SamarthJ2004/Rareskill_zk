{
 "cells": [
  {
   "cell_type": "code",
   "execution_count": 1,
   "id": "b8e0eec7-724f-4764-8cdd-980c18a927d6",
   "metadata": {},
   "outputs": [
    {
     "name": "stdout",
     "output_type": "stream",
     "text": [
      "     3      2\n",
      "2.5 x - 20 x + 46.5 x - 25\n"
     ]
    }
   ],
   "source": [
    "from scipy.interpolate import lagrange\n",
    "x_values = [1, 2, 3, 4]\n",
    "y_values = [4, 8, 2, 1]\n",
    "\n",
    "print(lagrange(x_values, y_values))\n"
   ]
  },
  {
   "cell_type": "code",
   "execution_count": 4,
   "id": "3e23eb05-c6ca-45f7-9e24-e06e46427aec",
   "metadata": {},
   "outputs": [
    {
     "name": "stdout",
     "output_type": "stream",
     "text": [
      "11x^3 + 14x^2 + 4x + 9\n"
     ]
    }
   ],
   "source": [
    "import galois\n",
    "import numpy as np\n",
    "\n",
    "GF17 = galois.GF(17)\n",
    "\n",
    "x_values = GF17(np.array([1, 2, 3, 4]))\n",
    "y_values = GF17(np.array([4, 8, 2, 1]))\n",
    "\n",
    "p = galois.lagrange_poly(x_values, y_values)\n",
    "\n",
    "print(p)"
   ]
  },
  {
   "cell_type": "code",
   "execution_count": 15,
   "id": "59ca7f9e-6852-4087-861f-68d8612cc465",
   "metadata": {},
   "outputs": [
    {
     "name": "stdout",
     "output_type": "stream",
     "text": [
      "87x^3 + 97x^2 + 33x + 96\n",
      "87x^3 + 97x^2 + 33x + 96\n",
      "36\n"
     ]
    }
   ],
   "source": [
    "# the f(a) = g(a), then f = g for large p\n",
    "import galois\n",
    "import numpy as np\n",
    "\n",
    "p = 103\n",
    "GF = galois.GF(p)\n",
    "\n",
    "xs = GF(np.array([1,2,3,4]))\n",
    "\n",
    "v1 = GF(np.array([4,10,18,35]))\n",
    "v2 = GF(np.array([4,10,18,35]))\n",
    "\n",
    "p1 = galois.lagrange_poly(xs,v1)\n",
    "print(p1)\n",
    "p2 = galois.lagrange_poly(xs,v2)\n",
    "print(p2)\n",
    "\n",
    "import random\n",
    "u = random.randint(0,p)\n",
    "print(u)\n",
    "\n",
    "lhs = p1(u)\n",
    "rhs = p2(u)\n",
    "\n",
    "assert lhs == rhs"
   ]
  },
  {
   "cell_type": "code",
   "execution_count": 17,
   "id": "140c2136-b42c-41d8-ae46-b3b88b0b176b",
   "metadata": {},
   "outputs": [],
   "source": [
    "# vector addn is homomorphic to poly addn\n",
    "\n",
    "import galois \n",
    "import numpy as np\n",
    "\n",
    "p = 17\n",
    "GF = galois.GF(p)\n",
    "\n",
    "x = GF(np.array([3,6,8]))\n",
    "\n",
    "y = GF(np.array([9,3,11]))\n",
    "z = GF(np.array([13,14,16]))\n",
    "\n",
    "def F(v):\n",
    "    return galois.lagrange_poly(x, v)\n",
    "\n",
    "assert F(y+z) == F(y) + F(z)"
   ]
  },
  {
   "cell_type": "code",
   "execution_count": 18,
   "id": "ebb977b1-2adb-476d-9906-18bbc78c3b35",
   "metadata": {},
   "outputs": [],
   "source": [
    "#scalar multiplication\n",
    "\n",
    "import galois\n",
    "import numpy as np\n",
    "\n",
    "GF = galois.GF(17)\n",
    "\n",
    "x = GF(np.array([1,2,3,4]))\n",
    "\n",
    "y = GF(np.array([2,3,4,5]))\n",
    "\n",
    "lamda = GF(14)\n",
    "\n",
    "def L(v):\n",
    "    return galois.lagrange_poly(x,v)\n",
    "\n",
    "assert L(y * lamda) == L(y) * lamda"
   ]
  },
  {
   "cell_type": "code",
   "execution_count": 24,
   "id": "076a8343-234b-47d5-b9b8-79934102d47b",
   "metadata": {},
   "outputs": [
    {
     "name": "stdout",
     "output_type": "stream",
     "text": [
      "15x + 8\n",
      "4x + 16\n",
      "9x + 11\n",
      "14x + 12\n"
     ]
    }
   ],
   "source": [
    "# A = [ 6 3 ] , B = [ 3 9 ] , v1 = [2     , v2 = [2\n",
    "#     [ 4 7 ] ,     [12 6 ]         4]            2]  \n",
    "\n",
    "import galois\n",
    "import numpy as np\n",
    "\n",
    "GF = galois.GF(p)\n",
    "\n",
    "x = GF(np.array([1,2]))\n",
    "\n",
    "def L(v):\n",
    "    return galois.lagrange_poly(x,v)\n",
    "\n",
    "p1 = L(GF(np.array([6,4])))\n",
    "p2 = L(GF(np.array([3,7])))\n",
    "q1 = L(GF(np.array([3,12])))\n",
    "q2 = L(GF(np.array([9,6])))\n",
    "\n",
    "print(p1)\n",
    "print(p2)\n",
    "print(q1)\n",
    "print(q2)\n",
    "\n",
    "import random\n",
    "\n",
    "u = random.randint(0,p)\n",
    "\n",
    "x = GF(u)\n",
    "\n",
    "assert GF(2) * p1(x) + GF(4) * p2(x) == GF(2) * q1(x) + GF(2) * q2(x)"
   ]
  },
  {
   "cell_type": "code",
   "execution_count": null,
   "id": "4c9cd938-697d-479b-ad68-6cd42f0f6ba0",
   "metadata": {},
   "outputs": [],
   "source": []
  }
 ],
 "metadata": {
  "kernelspec": {
   "display_name": "Python (venv)",
   "language": "python",
   "name": "venv"
  },
  "language_info": {
   "codemirror_mode": {
    "name": "ipython",
    "version": 3
   },
   "file_extension": ".py",
   "mimetype": "text/x-python",
   "name": "python",
   "nbconvert_exporter": "python",
   "pygments_lexer": "ipython3",
   "version": "3.13.7"
  }
 },
 "nbformat": 4,
 "nbformat_minor": 5
}
