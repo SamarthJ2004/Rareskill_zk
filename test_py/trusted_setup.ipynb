{
 "cells": [
  {
   "cell_type": "code",
   "execution_count": 3,
   "id": "42e3f696-d652-4b94-99fc-0ab165ab459a",
   "metadata": {},
   "outputs": [
    {
     "name": "stdout",
     "output_type": "stream",
     "text": [
      "(20451526127593713392485344164186208928610068300271993574459738234318410773344, 3488794550485637668738918813666912797574444385180549173722544913541297068909)\n"
     ]
    }
   ],
   "source": [
    "from py_ecc.bn128 import G1, multiply ,add\n",
    "from functools import reduce\n",
    "\n",
    "def inner_product(points,coeffs):\n",
    "    return reduce(add, map(multiply, points, coeffs))\n",
    "\n",
    "# trusted setup\n",
    "tau = 88\n",
    "degree = 3\n",
    "\n",
    "# tau^3, tau^2, tau, 1\n",
    "srs = [multiply(G1, tau**i) for i in range(degree,-1,-1)]\n",
    "\n",
    "## Evaluate\n",
    "# p(x) = 4x^2 + 7x + 8\n",
    "coeffs = [0, 4, 7, 8]\n",
    "\n",
    "poly_at_tau = inner_product(srs, coeffs)\n",
    "print(poly_at_tau)"
   ]
  },
  {
   "cell_type": "code",
   "execution_count": null,
   "id": "5e40ad4e-756a-4254-b79e-da248baa8ecf",
   "metadata": {},
   "outputs": [],
   "source": []
  }
 ],
 "metadata": {
  "kernelspec": {
   "display_name": "Python (venv)",
   "language": "python",
   "name": "venv"
  },
  "language_info": {
   "codemirror_mode": {
    "name": "ipython",
    "version": 3
   },
   "file_extension": ".py",
   "mimetype": "text/x-python",
   "name": "python",
   "nbconvert_exporter": "python",
   "pygments_lexer": "ipython3",
   "version": "3.13.7"
  }
 },
 "nbformat": 4,
 "nbformat_minor": 5
}
